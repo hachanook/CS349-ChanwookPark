{
 "cells": [
  {
   "cell_type": "markdown",
   "metadata": {},
   "source": [
    "# CS349: Machine Learning\n",
    "# Final project: Cryptocurrenty price prediction with LSTM\n",
    "## Chanwook Park\n"
   ]
  },
  {
   "cell_type": "code",
   "execution_count": 1,
   "metadata": {},
   "outputs": [],
   "source": [
    "import json\n",
    "import requests\n",
    "import tensorflow.keras\n",
    "from tensorflow.keras.models import Sequential\n",
    "from tensorflow.keras.layers import Activation, Dense, Dropout, LSTM\n",
    "import matplotlib.pyplot as plt\n",
    "import numpy as np\n",
    "import pandas as pd\n",
    "from sklearn.preprocessing import MinMaxScaler\n",
    "import pytz\n",
    "import pyupbit"
   ]
  },
  {
   "cell_type": "markdown",
   "metadata": {},
   "source": [
    "## pyupbit: API of Upbit, the largest crypticurrency exchange platform in South Korea.\n",
    "## LSTM algorithm: Get 10 past ohlcv data and predict 3 future close prices."
   ]
  },
  {
   "cell_type": "code",
   "execution_count": 2,
   "metadata": {},
   "outputs": [],
   "source": [
    "# Initial Settings\n",
    "\n",
    "my_interval = 'day'\n",
    "hist = pyupbit.get_ohlcv('KRW-ETH', interval=my_interval, count=1000, period=1)\n",
    "target_col = 'close'\n",
    "target_col_num = 3\n",
    "\n",
    "np.random.seed(42)\n",
    "window_len_X = 10\n",
    "window_len_y = 3\n",
    "test_size = 0.1\n",
    "lstm_neurons = 100\n",
    "epochs = 10\n",
    "batch_size = 32\n",
    "loss = 'mse'\n",
    "dropout = 0.2\n",
    "optimizer = 'adam'"
   ]
  },
  {
   "cell_type": "markdown",
   "metadata": {},
   "source": [
    "## MinMaxScalar normalization"
   ]
  },
  {
   "cell_type": "code",
   "execution_count": 3,
   "metadata": {},
   "outputs": [],
   "source": [
    "# Normalization\n",
    "\n",
    "X_all_o = hist.values\n",
    "y_all_o = hist[target_col].values.reshape(-1,1)\n",
    "\n",
    "scaler_X = MinMaxScaler()\n",
    "scaler_y = MinMaxScaler()\n",
    "\n",
    "X_all_n = scaler_X.fit_transform(X_all_o)\n",
    "y_all_n = scaler_y.fit_transform(y_all_o)"
   ]
  },
  {
   "cell_type": "markdown",
   "metadata": {},
   "source": [
    "## Functions"
   ]
  },
  {
   "cell_type": "code",
   "execution_count": 4,
   "metadata": {},
   "outputs": [],
   "source": [
    "def train_test_split(df, test_size=0.2):\n",
    "    split_row = len(df) - int(test_size * len(df))\n",
    "    train_data = df[:split_row]\n",
    "    test_data = df[split_row:]\n",
    "    return train_data, test_data\n",
    "\n",
    "\n",
    "def line_plot(line1, line2, label1=None, label2=None, title='', lw=2):\n",
    "    fig, ax = plt.subplots(1, figsize=(13, 7))\n",
    "    ax.plot(line1, label=label1, linewidth=lw)\n",
    "    ax.plot(line2, label=label2, linewidth=lw)\n",
    "    ax.set_ylabel('price [KRW]', fontsize=14)\n",
    "    ax.set_title(title, fontsize=16)\n",
    "    ax.legend(loc='best', fontsize=16);\n",
    "    ax.grid(axis='y')\n",
    "    plt.xticks(rotation=90)\n",
    "    \n",
    "def extract_window_data(df, window_len_X = 5, window_len_y = 3):\n",
    "    window_data = []\n",
    "    for idx in range(len(df) - window_len_X - window_len_y + 1):\n",
    "        tmp = df[idx: (idx + window_len_X), :]\n",
    "        window_data.append(tmp)\n",
    "    return np.array(window_data)\n",
    "\n",
    "def extract_window_data_y(df, window_len_X = 5, window_len_y = 3):\n",
    "    window_data = []\n",
    "    for idx in range(len(df) - window_len_X - window_len_y + 1):\n",
    "        tmp = df[idx + window_len_X: (idx + window_len_X + window_len_y), target_col_num]\n",
    "        window_data.append(tmp)\n",
    "    return np.array(window_data)\n",
    "\n",
    "def prepare_data(df, target_col_num, window_len_X = 5, window_len_y = 3, test_size=0.2):\n",
    "    train_data, test_data = train_test_split(df, test_size=test_size)\n",
    "    \n",
    "    X_train = extract_window_data(train_data, window_len_X, window_len_y)\n",
    "    X_test = extract_window_data(test_data, window_len_X, window_len_y)\n",
    "    \n",
    "    y_train = extract_window_data_y(train_data, window_len_X, window_len_y)\n",
    "    y_test = extract_window_data_y(test_data, window_len_X, window_len_y)\n",
    "    \n",
    "    return train_data, test_data, X_train, X_test, y_train, y_test    \n",
    "\n",
    "def build_lstm_model(input_data, output_size, neurons=100, activ_func='linear',\n",
    "                     dropout=0.2, loss='mse', optimizer='adam'):\n",
    "    model = Sequential()\n",
    "    model.add(LSTM(neurons, input_shape=(input_data.shape[1], input_data.shape[2])))\n",
    "    model.add(Dropout(dropout))\n",
    "    model.add(Dense(units=output_size))\n",
    "    model.add(Activation(activ_func))\n",
    "    model.summary()\n",
    "\n",
    "    model.compile(loss=loss, optimizer=optimizer)\n",
    "    return model"
   ]
  },
  {
   "cell_type": "markdown",
   "metadata": {},
   "source": [
    "# LSTM procedure"
   ]
  },
  {
   "cell_type": "code",
   "execution_count": 5,
   "metadata": {},
   "outputs": [],
   "source": [
    "# Prepare train and test data\n",
    "train_n, test_n, X_train_n, X_test_n, y_train_n, y_test_n = prepare_data(\n",
    "    X_all_n, target_col_num, window_len_X, window_len_y, test_size)"
   ]
  },
  {
   "cell_type": "code",
   "execution_count": 6,
   "metadata": {},
   "outputs": [
    {
     "name": "stdout",
     "output_type": "stream",
     "text": [
      "Model: \"sequential\"\n",
      "_________________________________________________________________\n",
      "Layer (type)                 Output Shape              Param #   \n",
      "=================================================================\n",
      "lstm (LSTM)                  (None, 100)               42800     \n",
      "_________________________________________________________________\n",
      "dropout (Dropout)            (None, 100)               0         \n",
      "_________________________________________________________________\n",
      "dense (Dense)                (None, 3)                 303       \n",
      "_________________________________________________________________\n",
      "activation (Activation)      (None, 3)                 0         \n",
      "=================================================================\n",
      "Total params: 43,103\n",
      "Trainable params: 43,103\n",
      "Non-trainable params: 0\n",
      "_________________________________________________________________\n"
     ]
    }
   ],
   "source": [
    "# Model generation\n",
    "model = build_lstm_model(\n",
    "    X_train_n, output_size=window_len_y, neurons=lstm_neurons, dropout=dropout, loss=loss, optimizer=optimizer)"
   ]
  },
  {
   "cell_type": "code",
   "execution_count": 7,
   "metadata": {},
   "outputs": [
    {
     "name": "stdout",
     "output_type": "stream",
     "text": [
      "Epoch 1/10\n",
      "28/28 [==============================] - 0s 5ms/step - loss: 0.0015\n",
      "Epoch 2/10\n",
      "28/28 [==============================] - 0s 4ms/step - loss: 2.4931e-04\n",
      "Epoch 3/10\n",
      "28/28 [==============================] - 0s 4ms/step - loss: 2.3879e-04\n",
      "Epoch 4/10\n",
      "28/28 [==============================] - 0s 4ms/step - loss: 2.3024e-04\n",
      "Epoch 5/10\n",
      "28/28 [==============================] - 0s 4ms/step - loss: 2.1131e-04\n",
      "Epoch 6/10\n",
      "28/28 [==============================] - 0s 4ms/step - loss: 2.1241e-04\n",
      "Epoch 7/10\n",
      "28/28 [==============================] - 0s 4ms/step - loss: 1.6749e-04\n",
      "Epoch 8/10\n",
      "28/28 [==============================] - 0s 4ms/step - loss: 1.7754e-04\n",
      "Epoch 9/10\n",
      "28/28 [==============================] - 0s 4ms/step - loss: 1.7024e-04\n",
      "Epoch 10/10\n",
      "28/28 [==============================] - 0s 4ms/step - loss: 1.5199e-04\n"
     ]
    }
   ],
   "source": [
    "# Train\n",
    "history = model.fit(X_train_n, y_train_n, epochs=epochs, batch_size=batch_size, verbose=1, shuffle=True)"
   ]
  },
  {
   "cell_type": "code",
   "execution_count": null,
   "metadata": {},
   "outputs": [],
   "source": [
    "#%% Visualize Test results\n",
    "train_data, test_data = train_test_split(hist, test_size = test_size)\n",
    "targets = test_data[target_col][window_len_X:]\n",
    "\n",
    "for i in range( len(X_test_n) ):\n",
    "    # i = 85 \n",
    "    X_test_n_i = X_test_n[i:i+1,:,:].copy()\n",
    "    y_test_pred_n = model.predict(X_test_n_i).squeeze()\n",
    "    y_test_pred_o = scaler_y.inverse_transform(y_test_pred_n.reshape(-1,1))\n",
    "    # y_test_o = scaler_y.inverse_transform(y_test_n.reshape(-1,1))\n",
    "    \n",
    "    targets_i = targets[ i : i + window_len_y]\n",
    "    \n",
    "    preds = pd.Series(index=targets_i.index, data = y_test_pred_o[:,0])\n",
    "    line_plot(targets, preds, 'actual', 'prediction', lw=3)"
   ]
  },
  {
   "cell_type": "code",
   "execution_count": null,
   "metadata": {},
   "outputs": [],
   "source": [
    "#%% Visualize Train results\n",
    "train_data, test_data = train_test_split(hist, test_size = test_size)\n",
    "targets = train_data[target_col][window_len_X:]\n",
    "\n",
    "for i in range( len(X_train_n) ):\n",
    "    # i = 85 \n",
    "    X_train_n_i = X_train_n[i:i+1,:,:].copy()\n",
    "    y_train_pred_n = model.predict(X_train_n_i).squeeze()\n",
    "    y_train_pred_o = scaler_y.inverse_transform(y_train_pred_n.reshape(-1,1))\n",
    "    # y_test_o = scaler_y.inverse_transform(y_test_n.reshape(-1,1))\n",
    "    \n",
    "    targets_i = targets[ i : i + window_len_y]\n",
    "    \n",
    "    preds = pd.Series(index=targets_i.index, data = y_train_pred_o[:,0])\n",
    "    line_plot(targets, preds, 'actual', 'prediction', lw=3)"
   ]
  },
  {
   "cell_type": "code",
   "execution_count": null,
   "metadata": {},
   "outputs": [],
   "source": []
  }
 ],
 "metadata": {
  "kernelspec": {
   "display_name": "Python 3",
   "language": "python",
   "name": "python3"
  },
  "language_info": {
   "codemirror_mode": {
    "name": "ipython",
    "version": 3
   },
   "file_extension": ".py",
   "mimetype": "text/x-python",
   "name": "python",
   "nbconvert_exporter": "python",
   "pygments_lexer": "ipython3",
   "version": "3.8.5"
  }
 },
 "nbformat": 4,
 "nbformat_minor": 4
}
